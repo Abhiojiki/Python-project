{
 "cells": [
  {
   "cell_type": "code",
   "execution_count": 15,
   "id": "ee114642",
   "metadata": {},
   "outputs": [],
   "source": [
    "import sqlite3\n",
    "import numpy as np\n",
    "import pandas as pd\n",
    "import plotly.express as px"
   ]
  },
  {
   "cell_type": "code",
   "execution_count": 16,
   "id": "f81d41ed",
   "metadata": {},
   "outputs": [],
   "source": [
    "import matplotlib.pyplot as plt\n",
    "class MoodDatabase:\n",
    " # keep track of daily moods along with allow user to input\n",
    "    def connect_db(self):\n",
    "        self.conn_db = sqlite3.connect(\"moodtracker.db\")\n",
    "        self.db = self.conn_db.cursor()\n",
    "\n",
    "    def createTable(self):\n",
    "        self.db.execute(\"\"\"CREATE TABLE IF NOT EXISTS mood_tracker\n",
    "                (id INTEGER PRIMARY KEY AUTOINCREMENT NOT NULL,\n",
    "                Date DATETIME,  Mood TEXT, Journal TEXT)\"\"\")\n",
    "    \n",
    "    def addColumn(self):\n",
    "        self.db.execute(\"\"\"ALTER TABLE mood_tracker ADD Time TIME\"\"\")\n",
    "\n",
    "    def insertData(self, date, time, mood, journal):\n",
    "        sql = f\"\"\"INSERT INTO mood_tracker(Date, Time, Mood, Journal)\n",
    "                    VALUES (?, ?, ?, ?)\"\"\"\n",
    "        self.db.execute(sql, [date, time, mood, journal])"
   ]
  },
  {
   "cell_type": "code",
   "execution_count": 17,
   "id": "f8b87d5c",
   "metadata": {},
   "outputs": [],
   "source": [
    "    def clearTable(self):\n",
    "        self.db.execute(\"DELETE FROM mood_tracker\")\n",
    "\n",
    "    def close_db(self):\n",
    "        self.conn_db.commit()\n",
    "        self.conn_db.close()\n",
    "\n",
    "    def conversion(self):\n",
    "        self.df = pd.read_sql_query(\"SELECT * from mood_tracker\", self.conn_db)\n",
    "        self.tocsv= self.df.to_csv('output.csv',index=False)"
   ]
  },
  {
   "cell_type": "code",
   "execution_count": 19,
   "id": "f359b1ec",
   "metadata": {},
   "outputs": [],
   "source": [
    " def summarizeData(self):\n",
    "\n",
    "\n",
    "        # create a pie chart of moods by date\n",
    "        color = plt.cm.RdBu(np.linspace(0, 1, 20))\n",
    "        query = '''\n",
    "        SELECT Mood, COUNT(Date) as num_dates\n",
    "        FROM mood_tracker\n",
    "        GROUP BY Mood\n",
    "        ORDER BY num_dates DESC\n",
    "        LIMIT 20\n",
    "        '''\n",
    "        results = pd.read_sql_query(query, self.conn_db)\n",
    "        results.plot.pie(y='num_dates', labels=results['Mood'], colors=color, autopct='%0.1f%%',title='User\\'s mood')\n",
    "        plt.title('Moods by date')\n",
    "        plt.axis('off')\n",
    "        plt.show()\n",
    "\n",
    "        # create a bar chart of the top 15 moods\n",
    "        query = '''\n",
    "        SELECT Mood, COUNT(Date) as num_dates\n",
    "        FROM mood_tracker\n",
    "        GROUP BY Mood\n",
    "        ORDER BY num_dates DESC\n",
    "        LIMIT 15\n",
    "        '''\n",
    "        results = pd.read_sql_query(query, self.conn_db)\n",
    "        results.plot.barh(x='Mood', y='num_dates', color='blue', title='User\\'s Moods')\n",
    "        plt.show()\n",
    "\n",
    "\t   \n",
    "        #time_query = '''SELECT time, mood FROM mood_tracker'''\n",
    "        #df_time = pd.read_sql_query(time_query, self.conn_db)\n",
    "        #fig_time = px.bar(df_time, x='Mood', y='Time', color_discrete_sequence=['#2B3A67'], title='Mood by Time')\n",
    "        #fig_time.show()\n",
    "        \n",
    "\n",
    "        # Query data for bar plot by date\n",
    "        date_query = '''SELECT date, mood FROM mood_tracker'''\n",
    "        df_date = pd.read_sql_query(date_query, self.conn_db)\n",
    "        fig_date = px.bar(df_date, x='Date', y='Mood', color_discrete_sequence=['crimson'], title='Daily Mood')\n",
    "        fig_date.show()\n"
   ]
  },
  {
   "cell_type": "code",
   "execution_count": null,
   "id": "3200fc5f",
   "metadata": {},
   "outputs": [],
   "source": []
  },
  {
   "cell_type": "code",
   "execution_count": null,
   "id": "76206444",
   "metadata": {},
   "outputs": [],
   "source": []
  },
  {
   "cell_type": "code",
   "execution_count": null,
   "id": "17deb2f6",
   "metadata": {},
   "outputs": [],
   "source": []
  },
  {
   "cell_type": "code",
   "execution_count": null,
   "id": "5bf07503",
   "metadata": {},
   "outputs": [],
   "source": []
  },
  {
   "cell_type": "code",
   "execution_count": null,
   "id": "51081383",
   "metadata": {},
   "outputs": [],
   "source": []
  }
 ],
 "metadata": {
  "kernelspec": {
   "display_name": "Python 3 (ipykernel)",
   "language": "python",
   "name": "python3"
  },
  "language_info": {
   "codemirror_mode": {
    "name": "ipython",
    "version": 3
   },
   "file_extension": ".py",
   "mimetype": "text/x-python",
   "name": "python",
   "nbconvert_exporter": "python",
   "pygments_lexer": "ipython3",
   "version": "3.9.13"
  }
 },
 "nbformat": 4,
 "nbformat_minor": 5
}
